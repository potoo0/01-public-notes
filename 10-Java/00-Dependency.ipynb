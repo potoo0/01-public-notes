{
 "cells": [
  {
   "cell_type": "markdown",
   "metadata": {},
   "source": [
    "## add dep\n",
    "\n",
    "most common use:\n",
    "\n",
    "1. line magic: `jars`: `List<String> addedJars = %jars ./libs/*.jar`\n",
    "2. cell magic: `loadFromPOM`:\n",
    "    ```xml\n",
    "    %%loadFromPOM\n",
    "    <repository>\n",
    "      <id>aliyun</id>\n",
    "      <url>https://maven.aliyun.com/repository/central</url>\n",
    "    </repository>\n",
    "\n",
    "    <dependency>\n",
    "        <groupId>com.jcraft</groupId>\n",
    "        <artifactId>jsch</artifactId>\n",
    "        <version>0.1.55</version>\n",
    "    </dependency>\n",
    "    <dependency>\n",
    "        <groupId>org.projectlombok</groupId>\n",
    "        <artifactId>lombok</artifactId>\n",
    "        <version>1.18.22</version>\n",
    "    </dependency>\n",
    "    ```"
   ]
  },
  {
   "cell_type": "code",
   "execution_count": null,
   "metadata": {
    "tags": []
   },
   "outputs": [],
   "source": [
    "List<String> addedJars = %jars ./libs/*.jar\n",
    "\n",
    "addedJars"
   ]
  },
  {
   "cell_type": "code",
   "execution_count": null,
   "metadata": {},
   "outputs": [],
   "source": [
    "%%loadFromPOM\n",
    "<repository>\n",
    "  <id>aliyun</id>\n",
    "  <url>https://maven.aliyun.com/repository/central</url>\n",
    "</repository>\n",
    "\n",
    "<dependency>\n",
    "    <groupId>com.jcraft</groupId>\n",
    "    <artifactId>jsch</artifactId>\n",
    "    <version>0.1.55</version>\n",
    "</dependency>\n",
    "<dependency>\n",
    "    <groupId>org.projectlombok</groupId>\n",
    "    <artifactId>lombok</artifactId>\n",
    "    <version>1.18.22</version>\n",
    "</dependency>"
   ]
  },
  {
   "cell_type": "code",
   "execution_count": null,
   "metadata": {
    "tags": []
   },
   "outputs": [],
   "source": [
    "import com.example."
   ]
  },
  {
   "cell_type": "code",
   "execution_count": null,
   "metadata": {},
   "outputs": [],
   "source": []
  }
 ],
 "metadata": {
  "kernelspec": {
   "display_name": "Java",
   "language": "java",
   "name": "java"
  },
  "language_info": {
   "codemirror_mode": "java",
   "file_extension": ".jshell",
   "mimetype": "text/x-java-source",
   "name": "Java",
   "pygments_lexer": "java",
   "version": "21-ea+22-1890"
  }
 },
 "nbformat": 4,
 "nbformat_minor": 4
}
