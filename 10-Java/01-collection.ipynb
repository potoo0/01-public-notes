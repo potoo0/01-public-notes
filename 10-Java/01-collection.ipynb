{
 "cells": [
  {
   "cell_type": "markdown",
   "metadata": {},
   "source": [
    "## sort\n",
    "\n",
    "1. `List.sort` 和 `Collections.sort`(内部调用前者) 都是原地方法;\n",
    "2. `List.of / Map.of` 等等创建的不可变集合不支持修改故不支持 sort, 复制新的再进行或者使用 `.stream().sorted`;\n",
    "3. `thenComparing` 前的 `Comparator.comparingXXX` 必须要类型转换, 否则无法类型推断"
   ]
  },
  {
   "cell_type": "markdown",
   "metadata": {},
   "source": [
    "### 1. list"
   ]
  },
  {
   "cell_type": "code",
   "execution_count": 21,
   "metadata": {},
   "outputs": [
    {
     "data": {
      "text/plain": [
       "\u001b[36mpersons\u001b[0m: [{name=Bruce, age=2}, {age=2, name=Alice, require=true}, {name=Bob, age=1}]"
      ]
     },
     "execution_count": 21,
     "metadata": {},
     "output_type": "execute_result"
    }
   ],
   "source": [
    "var nameOrder = List.of(\"Alice\", \"Bob\", \"Bruce\");\n",
    "var persons = List.of(\n",
    "    Map.of(\"name\", \"Bruce\", \"age\", \"2\"),\n",
    "    Map.of(\"name\", \"Alice\", \"age\", \"2\", \"require\", \"true\"),\n",
    "    Map.of(\"name\", \"Bob\", \"age\", \"1\")\n",
    ");\n",
    "persons"
   ]
  },
  {
   "cell_type": "markdown",
   "metadata": {},
   "source": [
    "#### 1.1 simple comparator\n",
    "\n",
    "`List.sort` 和 `Collections.sort` 都是原地方法, 需要生成新的可以使用 `.stream().sorted`"
   ]
  },
  {
   "cell_type": "code",
   "execution_count": 28,
   "metadata": {},
   "outputs": [
    {
     "data": {
      "text/plain": [
       "\u001b[36midsIdxMap\u001b[0m: {Bruce=2, Bob=1, Alice=0}"
      ]
     },
     "execution_count": 28,
     "metadata": {},
     "output_type": "execute_result"
    }
   ],
   "source": [
    "import java.util.stream.IntStream;\n",
    "import java.util.stream.Collectors;\n",
    "\n",
    "var idsIdxMap = IntStream.range(0, nameOrder.size()).boxed().collect(Collectors.toMap(i -> nameOrder.get(i), i -> i));\n",
    "idsIdxMap"
   ]
  },
  {
   "cell_type": "code",
   "execution_count": 35,
   "metadata": {},
   "outputs": [
    {
     "name": "stdout",
     "output_type": "stream",
     "text": [
      "\u001b[36mp2\u001b[0m: [{age=2, name=Alice, require=true}, {name=Bob, age=1}, {name=Bruce, age=2}]\n"
     ]
    },
    {
     "data": {
      "text/plain": [
       "\u001b[36mpersons.stream().sorted(Comparat...\u001b[0m: [{age=2, name=Alice, require=true}, {name=Bob, age=1}, {name=Bruce, age=2}]"
      ]
     },
     "execution_count": 35,
     "metadata": {},
     "output_type": "execute_result"
    }
   ],
   "source": [
    "var p2 = new ArrayList<>(persons);\n",
    "\n",
    "p2.sort(Comparator.comparingInt(m -> idsIdxMap.get(m.get(\"name\"))));\n",
    "print(p2);\n",
    "\n",
    "persons.stream().sorted(Comparator.comparingInt(m -> idsIdxMap.get(m.get(\"name\")))).toList()"
   ]
  },
  {
   "cell_type": "markdown",
   "metadata": {},
   "source": [
    "#### 1.2 chain comparator"
   ]
  },
  {
   "cell_type": "code",
   "execution_count": 37,
   "metadata": {},
   "outputs": [
    {
     "data": {
      "text/plain": [
       "\u001b[36mpersons.stream().sorted(Comparat...\u001b[0m: [{age=2, name=Alice, require=true}, {name=Bruce, age=2}, {name=Bob, age=1}]"
      ]
     },
     "execution_count": 37,
     "metadata": {},
     "output_type": "execute_result"
    }
   ],
   "source": [
    "persons.stream()\n",
    "    .sorted(Comparator.comparing((Map<String, String> m) -> m.get(\"age\"), Comparator.reverseOrder())\n",
    "            .thenComparing(m -> m.get(\"require\"), Comparator.nullsLast(Comparator.naturalOrder())))\n",
    "    .toList()"
   ]
  },
  {
   "cell_type": "markdown",
   "metadata": {},
   "source": [
    "#### 1.3 自定义 comparator"
   ]
  },
  {
   "cell_type": "code",
   "execution_count": 32,
   "metadata": {},
   "outputs": [],
   "source": [
    "// first by length\n",
    "Comparator<String> stringComp = (a, b) -> a.length() == b.length() ? a.compareTo(b) : Integer.compare(a.length(), b.length());"
   ]
  },
  {
   "cell_type": "code",
   "execution_count": 39,
   "metadata": {},
   "outputs": [
    {
     "data": {
      "text/plain": [
       "\u001b[36mpersons.stream().sorted(((o1,o2)...\u001b[0m: java.util.stream.SortedOps$OfRef@5ed5f78e"
      ]
     },
     "execution_count": 39,
     "metadata": {},
     "output_type": "execute_result"
    }
   ],
   "source": [
    "persons.stream().sorted(((o1, o2) -> stringComp.compare(o1.get(\"name\"), o2.get(\"name\"))));"
   ]
  },
  {
   "cell_type": "markdown",
   "metadata": {},
   "source": [
    "### 2. map"
   ]
  },
  {
   "cell_type": "code",
   "execution_count": 3,
   "metadata": {},
   "outputs": [
    {
     "data": {
      "text/plain": [
       "\u001b[36mmap\u001b[0m: {age=2, name=Alice, require=true}"
      ]
     },
     "execution_count": 3,
     "metadata": {},
     "output_type": "execute_result"
    }
   ],
   "source": [
    "var map = Map.of(\"name\", \"Alice\", \"age\", \"2\", \"require\", \"true\");\n",
    "map"
   ]
  },
  {
   "cell_type": "code",
   "execution_count": 4,
   "metadata": {},
   "outputs": [
    {
     "data": {
      "text/plain": [
       "\u001b[36mresult\u001b[0m: {age=2, name=Alice, require=true}"
      ]
     },
     "execution_count": 4,
     "metadata": {},
     "output_type": "execute_result"
    }
   ],
   "source": [
    "Map<String, String> result = new LinkedHashMap<>();\n",
    "\n",
    "map.entrySet().stream()\n",
    "    .sorted(Map.Entry.comparingByKey())\n",
    "    .forEachOrdered(x -> result.put(x.getKey(), x.getValue()));\n",
    "\n",
    "result"
   ]
  },
  {
   "cell_type": "markdown",
   "metadata": {},
   "source": [
    "### 3. stream"
   ]
  },
  {
   "cell_type": "code",
   "execution_count": 2,
   "metadata": {},
   "outputs": [
    {
     "data": {
      "text/plain": [
       "\u001b[36mList.of(1,2,3,-1,-2).stream().so...\u001b[0m: [-2, -1, 1, 2, 3]"
      ]
     },
     "execution_count": 2,
     "metadata": {},
     "output_type": "execute_result"
    }
   ],
   "source": [
    "List.of(1, 2, 3, -1, -2)\n",
    "    .stream()\n",
    "    .sorted(Comparator.comparingInt(i -> i))\n",
    "    .toList();"
   ]
  },
  {
   "cell_type": "markdown",
   "metadata": {},
   "source": [
    "## modify while iterating: `Iterator/ListIterator`\n",
    "\n",
    "1. `Iterator.remove`;\n",
    "2. `List.listIterator` 生成的是 `ListIterator`, 其额外支持 `add`"
   ]
  },
  {
   "cell_type": "code",
   "execution_count": 2,
   "metadata": {},
   "outputs": [
    {
     "name": "stdout",
     "output_type": "stream",
     "text": [
      "list: [1, 3]\n",
      "list: [1, 3, 3, 30]\n"
     ]
    }
   ],
   "source": [
    "List<Integer> list = new ArrayList<>(List.of(1, 2, 3));\n",
    "// list.removeIf(num -> num % 2 == 0);\n",
    "for (Iterator<Integer> it = list.iterator(); it.hasNext() ;) {\n",
    "    var num = it.next();\n",
    "    if (num % 2 == 0) {\n",
    "        it.remove();\n",
    "    }\n",
    "}\n",
    "System.out.println(\"list: \" + list);\n",
    "\n",
    "for (ListIterator<Integer> it = list.listIterator(); it.hasNext() ;) {\n",
    "    var num = it.next();\n",
    "    if (num % 2 == 0) {\n",
    "        it.remove();\n",
    "    } else if (num % 3 == 0) {\n",
    "        it.add(3);\n",
    "        it.add(30);\n",
    "    }\n",
    "}\n",
    "System.out.println(\"list: \" + list);"
   ]
  },
  {
   "cell_type": "code",
   "execution_count": null,
   "metadata": {},
   "outputs": [],
   "source": []
  }
 ],
 "metadata": {
  "kernelspec": {
   "display_name": "Java",
   "language": "java",
   "name": "java"
  },
  "language_info": {
   "codemirror_mode": "java",
   "file_extension": ".jshell",
   "mimetype": "text/x-java-source",
   "name": "Java",
   "pygments_lexer": "java",
   "version": "21-ea+22-1890"
  }
 },
 "nbformat": 4,
 "nbformat_minor": 4
}
