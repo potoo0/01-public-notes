{
 "cells": [
  {
   "cell_type": "code",
   "execution_count": 51,
   "id": "472ff083-b2ac-4422-9f09-6955879c1479",
   "metadata": {},
   "outputs": [],
   "source": [
    "// %help\n",
    "// %ls"
   ]
  },
  {
   "cell_type": "markdown",
   "id": "e7c0d9e4-2704-4aa3-8152-70d49fd5c81b",
   "metadata": {},
   "source": [
    "## variable zero value\n",
    "\n",
    "[The_zero_value](https://go.dev/ref/spec#The_zero_value):\n",
    "- booleans: `false`\n",
    "- numeric types: `0`\n",
    "- strings: `\"\"`\n",
    "- pointers, functions, interfaces, slices, channels, and maps: `nil`\n",
    "\n",
    "关于 `nil`:\n",
    "- nil is an untyped, predeclared identifier\n",
    "- nil is a non-constant expression, assignable to or convertible(Type conversions `T(v)`) to any type whose zero value is nil\r\n"
   ]
  },
  {
   "cell_type": "markdown",
   "id": "a446af8e-cd19-445e-b8cd-66650208f254",
   "metadata": {},
   "source": [
    "## Type conversions/assertions/switches\n",
    "\n",
    "- [Type conversions](https://go.dev/ref/spec#Conversions): `T(x)`: 将一个具体类型转换为另一个具体类型, *statically checked*\n",
    "- [Type assertions](https://go.dev/ref/spec#Type_assertions): `y, ok := x.(T)`: 将一个接口类型恢复成具体类型, x 必须是接口类型, x 实现 T 则 ok=true\n",
    "  - [Type switches](https://go.dev/ref/spec#Type_switches): `switch x.(type) { /* cases */ }`"
   ]
  },
  {
   "cell_type": "markdown",
   "id": "54f11694-e96a-48a1-9a9e-33e69793c18a",
   "metadata": {},
   "source": [
    "### 1. Type conversions\n",
    "\n",
    "关于与 nil 的特殊用法示例(不建议):\n",
    "- `[]int(nil)`: 一个 zerod slice\n",
    "- `var _ io.Reader = (*myStruct)(nil)`: (编译期)保证 myStruct 实现 io.Reader"
   ]
  },
  {
   "cell_type": "code",
   "execution_count": 13,
   "id": "aa9c7b92-0af6-4647-8e98-bbcaa3681312",
   "metadata": {},
   "outputs": [
    {
     "name": "stdout",
     "output_type": "stream",
     "text": [
      "i: 10 float32, i32: 10 int32\n"
     ]
    }
   ],
   "source": [
    "%main\n",
    "var i float32 = 10\n",
    "\n",
    "i32 := int32(i)\n",
    "fmt.Printf(\"i: %v %T, i32: %v %T\\n\", i, i, i32, i32)\n",
    "\n",
    "// type conversion 会进行静态检查，不通过则编译错误\n",
    "//istr := string(i) // cannot convert i (variable of type float32) to type string"
   ]
  },
  {
   "cell_type": "markdown",
   "id": "19672e53-353b-49f1-8794-0a814471b3b2",
   "metadata": {},
   "source": [
    "### 2. Type assertions"
   ]
  },
  {
   "cell_type": "code",
   "execution_count": 55,
   "id": "b5f85c41-a669-4c67-b53c-32e85eeba2de",
   "metadata": {},
   "outputs": [
    {
     "name": "stdout",
     "output_type": "stream",
     "text": [
      "any(float32) to string. ok=false\n",
      "any(float32) to float64. ok=false\n",
      "any(float32) back to float32. ok=true\n"
     ]
    }
   ],
   "source": [
    "%%\n",
    "var i float32 = 10.1\n",
    "\n",
    "// 必须是接口，所以 i.(string) 编译不通过\n",
    "var iany any = i\n",
    "\n",
    "// any(float32) to string, ok=false, float32 not implement string\n",
    "_, okstr := iany.(string)\n",
    "fmt.Printf(\"any(float32) to string. ok=%v\\n\", okstr)\n",
    "\n",
    "// any(float32) to float64, ok=false, float32 not implement float64\n",
    "_, okfloat64 := iany.(float64)\n",
    "fmt.Printf(\"any(float32) to float64. ok=%v\\n\", okfloat64)\n",
    "\n",
    "// 接口类型恢复成具体类型\n",
    "_, okfloat32 := iany.(float32)\n",
    "fmt.Printf(\"any(float32) back to float32. ok=%v\\n\", okfloat32)"
   ]
  },
  {
   "cell_type": "markdown",
   "id": "e52dbece-5488-4d82-9057-c9c55b8f7a5b",
   "metadata": {},
   "source": [
    "## Type declarations\n",
    "\n",
    "[Type declarations](https://go.dev/ref/spec#Type_declarations)\n",
    "- Type Alias: 不会创新新类型，只是创建一个别名指向原类型，和原类型之间赋值不需要转换\n",
    "  - Go 1.18 之后内置的 `type any = interface{}`\n",
    "- Type definitions: 创建了一个新类型，和原类型之间赋值需要转换，不会继承原类型绑定的方法，但原类型是接口或者复合类型时特殊(原文: It does not inherit any methods bound to the given type, but the method set of an interface type or of elements of a composite type remains unchanged):\n",
    "  - 原类型是接口则保有接口方法集合\n",
    "  - 原类型是结构体内的元素则保有其方法\n"
   ]
  },
  {
   "cell_type": "markdown",
   "id": "75c4622a-9420-4c45-b1e2-2af24c910ec9",
   "metadata": {},
   "source": [
    "### 1. 区别1-和原类型之间赋值是否需要转换"
   ]
  },
  {
   "cell_type": "code",
   "execution_count": 77,
   "id": "a85c9ab3-54cc-474c-b7e1-4abb597b010d",
   "metadata": {},
   "outputs": [
    {
     "name": "stdout",
     "output_type": "stream",
     "text": [
      "1 1\n",
      "1 1\n"
     ]
    }
   ],
   "source": [
    "%%\n",
    "\n",
    "type myInt_alias = int\n",
    "var numInt_alias myInt_alias = 1\n",
    "// Type Alias 转原类型不需要转换\n",
    "var numInt1 int = numInt_alias\n",
    "fmt.Println(numInt_alias, numInt1)\n",
    "\n",
    "type myInt_def int\n",
    "var numInt_def myInt_def = 1\n",
    "// var numInt int = numInt_def // 编译错误: cannot use numInt_def (variable of type myInt_def) as int value in variable declaration\n",
    "// Type definitions 转原类型需要转换\n",
    "var numInt2 int = int(numInt_def)\n",
    "fmt.Println(numInt_def, numInt2)"
   ]
  },
  {
   "cell_type": "markdown",
   "id": "f8b59dcc-2f15-4a2d-967d-62102420dcd9",
   "metadata": {},
   "source": [
    "### 2. 区别2-是否继承原类型方法/接口方法/复合类型字段"
   ]
  },
  {
   "cell_type": "markdown",
   "id": "4d85ce57-3617-4387-a68f-fd05f50eb156",
   "metadata": {},
   "source": [
    "不会继承原类型绑定的方法:"
   ]
  },
  {
   "cell_type": "code",
   "execution_count": 82,
   "id": "722d459f-a0cc-4450-a855-b8c029ae3ab0",
   "metadata": {},
   "outputs": [
    {
     "name": "stdout",
     "output_type": "stream",
     "text": [
      "lock: {k-1}\n"
     ]
    }
   ],
   "source": [
    "type RedisLock struct {\n",
    "    key string\n",
    "}\n",
    "func (m *RedisLock) Lock() { /* Lock implementation */ }\n",
    "func (m *RedisLock) Unlock()  { /* Unlock implementation */ }\n",
    "\n",
    "type RedisLock_def RedisLock\n",
    "\n",
    "func main() {\n",
    "    lock_org := RedisLock{key: \"k-1\"}\n",
    "    lock_org.Lock()\n",
    "\n",
    "    var lock_def RedisLock_def = RedisLock_def{key: \"k-1\"}\n",
    "    // 不会继承原类型绑定的方法\n",
    "    // lock_def.Lock() // 编译错误: lock_def.Lock undefined (type RedisLock_def has no field or method Lock)\n",
    "    fmt.Printf(\"lock: %v\\n\", lock_def)\n",
    "}\n"
   ]
  },
  {
   "cell_type": "markdown",
   "id": "a66897d1-65e3-4518-85d8-70312de6721e",
   "metadata": {},
   "source": [
    "结构体内的元素则保有其方法:"
   ]
  },
  {
   "cell_type": "code",
   "execution_count": 93,
   "id": "d78990c6-137a-4c67-9c9c-e615250ed294",
   "metadata": {},
   "outputs": [
    {
     "name": "stdout",
     "output_type": "stream",
     "text": [
      "lock: {{k-1}}\n"
     ]
    }
   ],
   "source": [
    "type RedisLock struct {\n",
    "    key string\n",
    "}\n",
    "func (m *RedisLock) Lock() { /* Lock implementation */ }\n",
    "func (m *RedisLock) Unlock()  { /* Unlock implementation */ }\n",
    "\n",
    "type DistributedLock struct {\n",
    "    RedisLock\n",
    "}\n",
    "\n",
    "func main() {\n",
    "    lock_org := RedisLock{key: \"k-1\"}\n",
    "    lock_org.Lock()\n",
    "\n",
    "    var lock_def DistributedLock = DistributedLock{lock_org}\n",
    "    // 结构体内的元素则保有其方法\n",
    "    lock_def.Lock()\n",
    "    fmt.Printf(\"lock: %v\\n\", lock_def)\n",
    "}\n"
   ]
  },
  {
   "cell_type": "markdown",
   "id": "56959923-7901-4e11-8ef0-fe25935e8c95",
   "metadata": {},
   "source": [
    "保有接口方法集合:"
   ]
  },
  {
   "cell_type": "code",
   "execution_count": 87,
   "id": "d3af583a-adf8-46b3-9ece-b7f013be3faf",
   "metadata": {},
   "outputs": [],
   "source": [
    "type Block interface {\n",
    "\tSize() int\n",
    "\tEncrypt(src []byte)\n",
    "}\n",
    "\n",
    "type Block_def Block\n",
    "\n",
    "var block_def Block_def\n",
    "\n",
    "func main() {\n",
    "    // 保有接口方法集合\n",
    "    // block_def.Size()\n",
    "}"
   ]
  },
  {
   "cell_type": "markdown",
   "id": "f583e0de-f578-4d04-a000-602f6547a47a",
   "metadata": {},
   "source": [
    "## todo types\n",
    "\n",
    "[Types](https://go.dev/ref/spec#Types)"
   ]
  },
  {
   "cell_type": "code",
   "execution_count": null,
   "id": "2b4ca588-a3b2-4241-82e8-2972a7441eb6",
   "metadata": {},
   "outputs": [],
   "source": []
  }
 ],
 "metadata": {
  "kernelspec": {
   "display_name": "Go (gonb)",
   "language": "go",
   "name": "gonb"
  },
  "language_info": {
   "codemirror_mode": "",
   "file_extension": ".go",
   "mimetype": "",
   "name": "go",
   "nbconvert_exporter": "",
   "pygments_lexer": "",
   "version": "go1.21.5"
  }
 },
 "nbformat": 4,
 "nbformat_minor": 5
}
