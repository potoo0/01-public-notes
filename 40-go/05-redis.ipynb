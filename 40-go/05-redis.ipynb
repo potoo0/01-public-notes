{
 "cells": [
  {
   "cell_type": "markdown",
   "id": "a23838c4-b47f-405e-8494-eb9a28050ae1",
   "metadata": {},
   "source": [
    "## 1. init"
   ]
  },
  {
   "cell_type": "code",
   "execution_count": 18,
   "id": "e5b154b4-af96-4b92-88ef-2b7d857f8ccc",
   "metadata": {},
   "outputs": [],
   "source": [
    "import (\n",
    "\t\"context\"\n",
    "\t\"fmt\"\n",
    "\t\"github.com/redis/go-redis/v9\"\n",
    "\t\"time\"\n",
    ")\n",
    "\n",
    "\n",
    "func CreateRedis() *redis.Client {\n",
    "\turl := \"redis://192.168.2.6:6379/0\"\n",
    "\topts, err := redis.ParseURL(url)\n",
    "\tif err != nil {\n",
    "\t\tpanic(err)\n",
    "\t}\n",
    "\treturn redis.NewClient(opts)\n",
    "}\n",
    "\n",
    "var rdb = CreateRedis()"
   ]
  },
  {
   "cell_type": "code",
   "execution_count": 19,
   "id": "1185fa3c-757c-4534-b168-b30cad65a3e2",
   "metadata": {},
   "outputs": [
    {
     "name": "stdout",
     "output_type": "stream",
     "text": [
      "cmd: set \n"
     ]
    }
   ],
   "source": [
    "func main() {\n",
    "\tctx := context.Background()\n",
    "\tstatusCmd := rdb.Set(ctx, \"k1\", \"v1\", time.Minute*5)\n",
    "\tfmt.Printf(\"cmd: %+v \\n\", statusCmd.FullName())\n",
    "}"
   ]
  },
  {
   "cell_type": "code",
   "execution_count": 23,
   "id": "a7d0b942-aeaa-4a38-86d6-63383077c426",
   "metadata": {},
   "outputs": [
    {
     "name": "stdout",
     "output_type": "stream",
     "text": [
      "ping: PONG\n"
     ]
    }
   ],
   "source": [
    "%main\n",
    "\n",
    "fmt.Println(rdb.Ping(context.Background()))"
   ]
  },
  {
   "cell_type": "code",
   "execution_count": null,
   "id": "32ac58d3-9ab7-4a31-941b-da5e4b23331e",
   "metadata": {},
   "outputs": [],
   "source": []
  }
 ],
 "metadata": {
  "kernelspec": {
   "display_name": "Go (gonb)",
   "language": "go",
   "name": "gonb"
  },
  "language_info": {
   "codemirror_mode": "",
   "file_extension": ".go",
   "mimetype": "",
   "name": "go",
   "nbconvert_exporter": "",
   "pygments_lexer": "",
   "version": "go1.21.5"
  }
 },
 "nbformat": 4,
 "nbformat_minor": 5
}
