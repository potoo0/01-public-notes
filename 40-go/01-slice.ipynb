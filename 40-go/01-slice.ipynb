{
 "cells": [
  {
   "cell_type": "markdown",
   "id": "d489d569-82fe-4a39-8c26-d248b6c881be",
   "metadata": {},
   "source": [
    "必读文档:\n",
    "- [Effective Go](https://go.dev/doc/effective_go)\n",
    "- [Go Specification](https://go.dev/ref/spec)\n",
    "\n",
    "其他常用:\n",
    "- [fmt doc](https://pkg.go.dev/fmt)\n",
    "- jupyter kernel: [GoNB](https://github.com/janpfeifer/gonb)\n",
    "    - help line magic: `%help`"
   ]
  },
  {
   "cell_type": "markdown",
   "id": "e52803ba-a357-4817-b904-c9f07cb761ae",
   "metadata": {},
   "source": []
  },
  {
   "cell_type": "markdown",
   "id": "1e9a0674-0c5a-4c70-8058-d8d94da8776f",
   "metadata": {},
   "source": [
    "## 1. base\n",
    "\n",
    "- go 的常见的引用类型: `slice`, `map`, `chan`, `interface`, `func`, 传递的是 header, 其指向实际的数据.\n",
    "- [*zeroed value*](https://go.dev/ref/spec#The_zero_value): `nil`\n",
    "- A slice is a descriptor of an array segment, structure: \n",
    "```go\n",
    "type slice struct {\n",
    "\tarray unsafe.Pointer\n",
    "\tlen   int\n",
    "\tcap   int\n",
    "}\n",
    "```"
   ]
  },
  {
   "cell_type": "markdown",
   "id": "3fa94e26-4c4c-4b14-86eb-fa154d54b5ae",
   "metadata": {},
   "source": [
    "## 2. create\n",
    "\n",
    "- [make](https://go.dev/doc/effective_go#allocation_make): creates slices, maps, and channels only, and it returns an initialized (not zeroed) value of type T (not *T). *make* initializes the internal data structure.\n",
    "- [new](https://go.dev/doc/effective_go#allocation_new): returns a pointer to a newly allocated, zeroed slice structure(a pointer to a nil slice value)\n",
    "\n",
    "一种另类的创建: *type conversions*: `s := []int(nil)`"
   ]
  },
  {
   "cell_type": "code",
   "execution_count": 1,
   "id": "d586fa91-f02e-436c-a33b-84d3068b4a06",
   "metadata": {},
   "outputs": [
    {
     "name": "stdout",
     "output_type": "stream",
     "text": [
      "slice_make=[0 1 0], len=3, cap=3, is nil=false\n",
      "slice_point_new=&[], len=0, cap=0, is nil=false, point to nil=true\n",
      "slice_type_conv=[], is nil: true"
     ]
    }
   ],
   "source": [
    "%%\n",
    "\n",
    "// 1. make\n",
    "var slice_make []int = make([]int, 3)\n",
    "slice_make[1] = 1\n",
    "fmt.Printf(\"slice_make=%+v, len=%d, cap=%d, is nil=%v\\n\", slice_make, len(slice_make), cap(slice_make), slice_make == nil)\n",
    "\n",
    "// 2. new\n",
    "var slice_point_new *[]int = new([]int)\n",
    "// slice_point_new: a pointer to a nil slice value. 不能直接修改:\n",
    "// (*slice_point_new)[0] = 1 // panic: runtime error: index out of range [0] with length 0\n",
    "fmt.Printf(\"slice_point_new=%+v, len=%d, cap=%d, is nil=%v, point to nil=%v\\n\", slice_point_new, len(*slice_point_new), cap(*slice_point_new), slice_point_new == nil, *slice_point_new == nil)\n",
    "\n",
    "// 3. type conversions\n",
    "var slice_type_conv = []int(nil)\n",
    "fmt.Printf(\"slice_type_conv=%+v, is nil: %+v\", slice_type_conv, slice_type_conv == nil)"
   ]
  },
  {
   "cell_type": "markdown",
   "id": "442b647a-5630-43be-ac9a-53c1585e85cd",
   "metadata": {},
   "source": [
    "### make\n",
    "\n",
    "- `make` 初始化 `slice` 时至少要传 *Type, len*, 可额外传第三个参数作为 *cap*, 不传时会默认 *cap=len*\n",
    "- `make` 的 *cap* 不能小于 *size*"
   ]
  },
  {
   "cell_type": "code",
   "execution_count": 40,
   "id": "fa839151-e5f8-4033-a716-1ced405f9471",
   "metadata": {},
   "outputs": [
    {
     "name": "stdout",
     "output_type": "stream",
     "text": [
      "slice_with_size=[0 0 0 0 0], len=5, cap=5\n",
      "slice_with_size_cap=[0 0 0 0 0], len=5, cap=8\n"
     ]
    }
   ],
   "source": [
    "%%\n",
    "\n",
    "// 指定 len, 默认 cap=len\n",
    "slice_with_size := make([]int, 5)\n",
    "fmt.Printf(\"slice_with_size=%+v, len=%d, cap=%d\\n\", slice_with_size, len(slice_with_size), cap(slice_with_size))\n",
    "\n",
    "// 指定 len 与 cap\n",
    "slice_with_size_cap := make([]int, 5, 8)\n",
    "fmt.Printf(\"slice_with_size_cap=%+v, len=%d, cap=%d\\n\", slice_with_size_cap, len(slice_with_size_cap), cap(slice_with_size_cap))\n",
    "\n",
    "// len > cap, 如 make([]int, 5, 1), 会报编译错误: invalid argument: length and capacity swapped"
   ]
  },
  {
   "cell_type": "markdown",
   "id": "f1b250bf-013e-4fbb-96d8-6bf81a6129e8",
   "metadata": {},
   "source": [
    "## 3. iter\n",
    "\n",
    "`for [... :=] range`: array, slice, string, or map, or reading from a channel. "
   ]
  },
  {
   "cell_type": "code",
   "execution_count": 30,
   "id": "1a0f1726-6905-4d64-9503-09f0f74dbf6e",
   "metadata": {},
   "outputs": [
    {
     "name": "stdout",
     "output_type": "stream",
     "text": [
      "shapes: [10 20 30]\n",
      "idx: 0, value: 10\n",
      "idx: 1, value: 20\n",
      "idx: 2, value: 30\n",
      "idx: 0, value: 10\n",
      "idx: 1, value: 20\n",
      "idx: 2, value: 30\n"
     ]
    }
   ],
   "source": [
    "%%\n",
    "\n",
    "nums := []int{10, 20, 30}\n",
    "fmt.Printf(\"shapes: %+v\\n\", nums)\n",
    "\n",
    "for idx := range nums {\n",
    "    fmt.Printf(\"idx: %d, value: %+v\\n\", idx, nums[idx])\n",
    "}\n",
    "\n",
    "for idx, value := range nums {\n",
    "    fmt.Printf(\"idx: %d, value: %+v\\n\", idx, value)\n",
    "}"
   ]
  },
  {
   "cell_type": "markdown",
   "id": "475664c2-205d-45b2-b45b-ec88b2382cd3",
   "metadata": {},
   "source": [
    "### 关于 for 迭代\n",
    "\n",
    "推荐阅读: [golang-for-range](https://draveness.me/golang/docs/part2-foundation/ch05-keyword/golang-for-range/)\n",
    "此处直接引用其结论:\n",
    "- 所有的 range 循环，Go 语言都会在编译期将原切片或者数组赋值给一个新变量( copy )并获取切片的长度. 所以在循环中追加新的元素也不会改变循环执行的次数\n",
    "- 迭代元素时，Go 语言会额外创建一个新的变量存储切片/数组中的元素，会在每一次迭代被重新赋值为当前迭代元素。总之: 索引和元素始终都是同一内存空间，直接修改不会影响原 slice。修改的方式: 要么对 `slice[idx]`重新赋值，要么原 slice 的元素是指针时修改解引用的数据"
   ]
  },
  {
   "cell_type": "code",
   "execution_count": 60,
   "id": "30c12c3e-b3e1-439a-8d77-e072d5dd1d76",
   "metadata": {},
   "outputs": [
    {
     "name": "stdout",
     "output_type": "stream",
     "text": [
      "idx: 0, value: 10\n",
      "idx: 1, value: 20\n",
      "idx: 0, idx addr: 0xc00008a018, value: 10, value addr: 0xc00008a030\n",
      "idx: 1, idx addr: 0xc00008a018, value: 20, value addr: 0xc00008a030\n",
      "idx: 2, idx addr: 0xc00008a018, value: 50, value addr: 0xc00008a030\n",
      "idx: 3, idx addr: 0xc00008a018, value: 51, value addr: 0xc00008a030\n"
     ]
    }
   ],
   "source": [
    "%%\n",
    "\n",
    "nums := []int{10, 20}\n",
    "\n",
    "// 1. 迭代时追加\n",
    "for idx, value := range nums {\n",
    "    nums = append(nums, idx + 50)\n",
    "    fmt.Printf(\"idx: %d, value: %+v\\n\", idx, value)\n",
    "}\n",
    "\n",
    "// 2. 索引和元素始终同一内存，元素是重新赋值而来\n",
    "for idx, value := range nums {\n",
    "    fmt.Printf(\"idx: %d, idx addr: %v, value: %+v, value addr: %v\\n\", idx, &idx, value, &value)\n",
    "}"
   ]
  },
  {
   "cell_type": "code",
   "execution_count": 97,
   "id": "e9223bcc-e589-48e2-99ea-4bdb244e0ed4",
   "metadata": {},
   "outputs": [],
   "source": [
    "func printSlice(label string, s []*int){\n",
    "    fmt.Printf(\"points %s: [\", label)\n",
    "    for idx, iter_value := range s {\n",
    "        if idx != 0 {\n",
    "            fmt.Print(\" \")\n",
    "        }\n",
    "        fmt.Printf(\"%v\", *iter_value)\n",
    "    }\n",
    "    fmt.Println(\"]\")\n",
    "}"
   ]
  },
  {
   "cell_type": "code",
   "execution_count": 98,
   "id": "baa3accc-9c4a-4e2b-83b9-0259f196198c",
   "metadata": {},
   "outputs": [
    {
     "name": "stdout",
     "output_type": "stream",
     "text": [
      "nums: [10 20]\n",
      "nums after for-range modify range's value: [10 20]\n",
      "points : [10 20]\n",
      "iter_value: 0xc00008e058, iter_value's addr: 0xc000090020, iter_value's val: 10\n",
      "iter_value: 0xc00008e060, iter_value's addr: 0xc000090020, iter_value's val: 20\n",
      "points after for-range modify range's value: [60 70]\n"
     ]
    }
   ],
   "source": [
    "%%\n",
    "\n",
    "nums := []int{10, 20}\n",
    "\n",
    "// 2.1 由于元素是重新赋值而来所以修改数据时不会影响原数据, struct 重新赋值会 copy\n",
    "fmt.Printf(\"nums: %v\\n\", nums)\n",
    "for _, value := range nums {\n",
    "    value = value + 50\n",
    "}\n",
    "fmt.Printf(\"nums after for-range modify range's value: %v\\n\", nums)\n",
    "\n",
    "// 2.2 修改 指针slice 的元素会影响原slice\n",
    "a, b := 10, 20\n",
    "num_points := []*int {&a, &b}\n",
    "printSlice(\"\", num_points)\n",
    "for _, iter_value := range num_points {\n",
    "    fmt.Printf(\"iter_value: %v, iter_value's addr: %v, iter_value's val: %v\\n\", iter_value, &iter_value, *iter_value)\n",
    "    *iter_value = *iter_value + 50\n",
    "}\n",
    "printSlice(\"after for-range modify range's value\", num_points)"
   ]
  },
  {
   "cell_type": "markdown",
   "id": "bd8dc1ce-76df-4580-9af0-5371ac55a980",
   "metadata": {},
   "source": [
    "## 4. append -- TODO\n",
    "\n",
    "append 会返回\n"
   ]
  },
  {
   "cell_type": "code",
   "execution_count": 100,
   "id": "fafad726-1cae-43ce-a169-5db87c2c30ea",
   "metadata": {},
   "outputs": [],
   "source": [
    "// todo"
   ]
  },
  {
   "cell_type": "markdown",
   "id": "86195a57-fd0c-487a-93f8-56dc42d1b207",
   "metadata": {},
   "source": [
    "### 4.1 growslice\n",
    "\n",
    "以下均基于 go 1.21.5 版本\n",
    "\n",
    "[runtime.slice#growslice](https://github.com/golang/go/blob/go1.21.5/src/runtime/slice.go)\n",
    "\n",
    "扩容:\n",
    "1. 新长度大于原容量的两倍则新容量直接等于新长度\n",
    "2. 如果原容量小于 *threshold*(=256) 就会将容量翻倍\n",
    "3. 使用扩容公式: `newcap += (newcap + 3*threshold) / 4` 直到新容量大于等于新长度\n",
    "\n",
    "内存对齐:\n"
   ]
  },
  {
   "cell_type": "code",
   "execution_count": 111,
   "id": "21b67d2f-67a8-4c74-a5ff-4f515ca9df49",
   "metadata": {},
   "outputs": [
    {
     "name": "stdout",
     "output_type": "stream",
     "text": [
      "len: 2, cap: 2, nums: [1 2]\n",
      "len: 4, cap: 4, nums: [1 2 3 4]\n",
      "len: 5, cap: 6, nums: [1 2 3 4 5]\n",
      "len: 5, cap: 6, nums: [1 2 3 4 5]\n"
     ]
    }
   ],
   "source": [
    "%%\n",
    "\n",
    "// newLen > doublecap\n",
    "nums := []int{1, 2}\n",
    "fmt.Printf(\"len: %d, cap: %d, nums: %v\\n\", len(nums), cap(nums), nums)\n",
    "\n",
    "numsAd2 := append(nums, 3, 4)\n",
    "fmt.Printf(\"len: %d, cap: %d, nums: %v\\n\", len(numsAd2), cap(numsAd2), numsAd2)\n",
    "\n",
    "numsAd3 := append(nums, 3, 4, 5)\n",
    "fmt.Printf(\"len: %d, cap: %d, nums: %v\\n\", len(numsAd3), cap(numsAd3), numsAd3)\n",
    "\n",
    "numsAd4 := append(nums, 3, 4, 5, 6)\n",
    "fmt.Printf(\"len: %d, cap: %d, nums: %v\\n\", len(numsAd4), cap(numsAd4), numsAd4)"
   ]
  },
  {
   "cell_type": "markdown",
   "id": "5b021d61-893c-42be-990b-f0f80484b27b",
   "metadata": {},
   "source": [
    "### 4.2 slice 的切片\n",
    "\n",
    "`slice[start:end]` 是引用"
   ]
  },
  {
   "cell_type": "code",
   "execution_count": null,
   "id": "e981dba5-918d-4ac0-b25c-bb83f6e2c8d9",
   "metadata": {},
   "outputs": [],
   "source": []
  },
  {
   "cell_type": "code",
   "execution_count": null,
   "id": "68ab4a46-8c33-4f70-9d4e-80654a81024e",
   "metadata": {},
   "outputs": [],
   "source": []
  }
 ],
 "metadata": {
  "kernelspec": {
   "display_name": "Go (gonb)",
   "language": "go",
   "name": "gonb"
  },
  "language_info": {
   "codemirror_mode": "",
   "file_extension": ".go",
   "mimetype": "",
   "name": "go",
   "nbconvert_exporter": "",
   "pygments_lexer": "",
   "version": "go1.21.5"
  }
 },
 "nbformat": 4,
 "nbformat_minor": 5
}
