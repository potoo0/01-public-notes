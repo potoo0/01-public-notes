{
 "cells": [
  {
   "cell_type": "markdown",
   "metadata": {},
   "source": [
    "## 1. init"
   ]
  },
  {
   "cell_type": "code",
   "execution_count": null,
   "metadata": {},
   "outputs": [],
   "source": [
    "import re\n",
    "from enum import Enum\n",
    "from datetime import datetime, timedelta\n",
    "\n",
    "import httpx\n",
    "import getpass\n",
    "import feedparser"
   ]
  },
  {
   "cell_type": "code",
   "execution_count": null,
   "metadata": {},
   "outputs": [],
   "source": [
    "import json\n",
    "from pprint import pprint\n",
    "\n",
    "from IPython import display\n",
    "\n",
    "\n",
    "def tofile(data):\n",
    "    with open('./tmp.json', 'w') as f:\n",
    "        json.dump(data, f)"
   ]
  },
  {
   "cell_type": "code",
   "execution_count": null,
   "metadata": {
    "tags": []
   },
   "outputs": [],
   "source": [
    "jira_host = 'https://jira.yovole.tech'\n",
    "\n",
    "org_datepattern = \"%Y-%m-%dT%H:%M:%S.%fZ\"\n",
    "dest_datepattern = \"%Y-%m-%d\"\n",
    "UA = 'Mozilla/5.0 (iPhone; CPU iPhone OS 13_2_3 like Mac OS X) AppleWebKit/605.1.15 (KHTML, like Gecko) Version/13.0.3 Mobile/15E148 Safari/604.1'\n",
    "\n",
    "\n",
    "class JiraApi(Enum):\n",
    "    login = \"/rest/mobile/1.0/login\"\n",
    "    activity = '/activity'\n",
    "    issue_detail = \"/rest/api/latest/issue/{issue_id}?expand=schema,names,transitions\""
   ]
  },
  {
   "cell_type": "code",
   "execution_count": null,
   "metadata": {
    "tags": []
   },
   "outputs": [],
   "source": [
    "def get_jira_client(username, password):\n",
    "    client = httpx.Client(base_url=jira_host, verify=False, headers={'User-Agent': UA})\n",
    "    login_data = {\n",
    "        'os_username': username,\n",
    "        'os_password': password,\n",
    "        'os_cookie': 'true'\n",
    "    }\n",
    "    headers = {'Content-Type': 'application/x-www-form-urlencoded'}\n",
    "    login_resp = client.post(JiraApi.login.value, data=login_data, headers=headers)\n",
    "    assert login_resp.status_code == 200, f\"login error: {login_resp}\"\n",
    "    return client"
   ]
  },
  {
   "cell_type": "code",
   "execution_count": null,
   "metadata": {
    "tags": []
   },
   "outputs": [],
   "source": []
  },
  {
   "cell_type": "markdown",
   "metadata": {},
   "source": [
    "## 2. login"
   ]
  },
  {
   "cell_type": "code",
   "execution_count": null,
   "metadata": {
    "tags": []
   },
   "outputs": [],
   "source": [
    "username = getpass.getpass(prompt='username: ')\n",
    "client = get_jira_client(username, getpass.getpass(prompt='password: '))"
   ]
  },
  {
   "cell_type": "markdown",
   "metadata": {
    "tags": []
   },
   "source": [
    "## 3. jira detail"
   ]
  },
  {
   "cell_type": "code",
   "execution_count": null,
   "metadata": {},
   "outputs": [],
   "source": [
    "params = {'expand': 'renderedFields,schema,changelog'}\n",
    "issue_detail = client.get(JiraApi.issue_detail.value.format(issue_id='CMP2-00000'), params=params)\n",
    "issue_detail_json = issue_detail.json()\n",
    "display.display_json(issue_detail_json, raw=True)\n",
    "\n",
    "if issue_detail.status_code == 200:\n",
    "    res = {\n",
    "        'id': issue_detail_json['key'],\n",
    "        'priority': issue_detail_json['fields']['priority']['name'],\n",
    "        'plan_start': issue_detail_json['fields']['customfield_13805'],\n",
    "        'plan_end': issue_detail_json['fields']['customfield_13806'],\n",
    "        # 'actual': issue,\n",
    "        'reporter': issue_detail_json['fields']['reporter']['displayName'],\n",
    "        'assignee': issue_detail_json['fields']['assignee']['displayName'],\n",
    "        'title': issue_detail_json['fields']['summary'],\n",
    "        'description': issue_detail_json['fields']['description'],\n",
    "    }\n",
    "    display.display_json(res, raw=True)"
   ]
  },
  {
   "cell_type": "markdown",
   "metadata": {},
   "source": [
    "## 4. recent"
   ]
  },
  {
   "cell_type": "code",
   "execution_count": null,
   "metadata": {},
   "outputs": [],
   "source": [
    "activity_user = username"
   ]
  },
  {
   "cell_type": "code",
   "execution_count": null,
   "metadata": {
    "tags": []
   },
   "outputs": [],
   "source": [
    "params = {'maxResults': 100, 'streams': 'user IS {}'.format(activity_user)}\n",
    "resp_activity = client.get(JiraApi.activity.value, params=params)"
   ]
  },
  {
   "cell_type": "code",
   "execution_count": null,
   "metadata": {
    "tags": []
   },
   "outputs": [],
   "source": [
    "# a = '''\n",
    "\n",
    "# '''\n",
    "# feed_data = feedparser.parse(a)"
   ]
  },
  {
   "cell_type": "code",
   "execution_count": null,
   "metadata": {},
   "outputs": [],
   "source": [
    "feed_data = feedparser.parse(resp_activity.text)"
   ]
  },
  {
   "cell_type": "code",
   "execution_count": null,
   "metadata": {
    "scrolled": true,
    "tags": []
   },
   "outputs": [],
   "source": [
    "# feed_data"
   ]
  },
  {
   "cell_type": "code",
   "execution_count": null,
   "metadata": {},
   "outputs": [],
   "source": [
    "week_start = datetime(year=2024, month=1, day=22)"
   ]
  },
  {
   "cell_type": "code",
   "execution_count": null,
   "metadata": {
    "tags": []
   },
   "outputs": [],
   "source": []
  },
  {
   "cell_type": "code",
   "execution_count": null,
   "metadata": {},
   "outputs": [],
   "source": [
    "activities_lis = []\n",
    "entry_pattern = re.compile(r'/a.*?将.*?a href=\".*?browse/(?P<id>.*?)\">(?P<title>.*?)</a>.*?更新为(?P<status>.*?)$', re.S)\n",
    "title_tag_pattern = re.compile('.*?(<span.*?>(.*)</span>)')\n",
    "for entry in feed_data['entries']:\n",
    "    searched = entry_pattern.search(entry['title'])\n",
    "    if not searched:\n",
    "        continue\n",
    "    update_date = datetime.strptime(entry['updated'], org_datepattern) + timedelta(hours=8)\n",
    "    if update_date >= week_start:\n",
    "        data = {**searched.groupdict(), 'date': update_date.strftime(dest_datepattern)}\n",
    "        title = data['title']\n",
    "        tag_matched = title and title_tag_pattern.match(title)\n",
    "        if tag_matched:\n",
    "            data['title'] = f'{title[0:tag_matched.start(1)]}{tag_matched.group(2)}{title[tag_matched.end(1):]}'\n",
    "        activities_lis.append(data)"
   ]
  },
  {
   "cell_type": "code",
   "execution_count": null,
   "metadata": {
    "tags": []
   },
   "outputs": [],
   "source": []
  },
  {
   "cell_type": "markdown",
   "metadata": {},
   "source": [
    "### 基本信息 - 无开始结束时间"
   ]
  },
  {
   "cell_type": "code",
   "execution_count": null,
   "metadata": {
    "tags": []
   },
   "outputs": [],
   "source": [
    "id_set = set()\n",
    "activities_distinct = []\n",
    "for item in activities_lis:\n",
    "    if item[\"id\"] not in id_set:\n",
    "        id_set.add(item[\"id\"])\n",
    "        activities_distinct.append(item)"
   ]
  },
  {
   "cell_type": "code",
   "execution_count": null,
   "metadata": {},
   "outputs": [],
   "source": [
    "for item in activities_distinct:\n",
    "    # print(f\"- {item['id']}: {item['title']}\")\n",
    "    print(f\"{item['title']}\")"
   ]
  },
  {
   "cell_type": "code",
   "execution_count": null,
   "metadata": {},
   "outputs": [],
   "source": []
  },
  {
   "cell_type": "markdown",
   "metadata": {},
   "source": [
    "### 开始结束时间"
   ]
  },
  {
   "cell_type": "code",
   "execution_count": null,
   "metadata": {},
   "outputs": [],
   "source": [
    "# filter data: 取最新的一条\n",
    "data_filterd = []\n",
    "keyset = set()\n",
    "for d in activities_lis:\n",
    "    key = d['id'] + d['status']\n",
    "    if key not in keyset:\n",
    "        keyset.add(key)\n",
    "        data_filterd.append(d)\n",
    "data_filterd"
   ]
  },
  {
   "cell_type": "code",
   "execution_count": null,
   "metadata": {},
   "outputs": [],
   "source": [
    "# 根据 status 解析日期\n",
    "for item in data_filterd:\n",
    "    if item['status'] == '进行中':\n",
    "        item['actual_start'] = item.pop('date')\n",
    "    elif item['status'] == 'In Review':\n",
    "        item['actual_end'] = item.pop('date')\n"
   ]
  },
  {
   "cell_type": "code",
   "execution_count": null,
   "metadata": {},
   "outputs": [],
   "source": [
    "data_filterd"
   ]
  },
  {
   "cell_type": "code",
   "execution_count": null,
   "metadata": {},
   "outputs": [],
   "source": []
  }
 ],
 "metadata": {
  "kernelspec": {
   "display_name": "Python 3 (ipykernel)",
   "language": "python",
   "name": "python3"
  },
  "language_info": {
   "codemirror_mode": {
    "name": "ipython",
    "version": 3
   },
   "file_extension": ".py",
   "mimetype": "text/x-python",
   "name": "python",
   "nbconvert_exporter": "python",
   "pygments_lexer": "ipython3",
   "version": "3.11.2"
  }
 },
 "nbformat": 4,
 "nbformat_minor": 4
}
